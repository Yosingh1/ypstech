{
  "nbformat": 4,
  "nbformat_minor": 0,
  "metadata": {
    "colab": {
      "provenance": [],
      "authorship_tag": "ABX9TyP5iLV1BKdXqjicKI21H3hp",
      "include_colab_link": true
    },
    "kernelspec": {
      "name": "python3",
      "display_name": "Python 3"
    },
    "language_info": {
      "name": "python"
    }
  },
  "cells": [
    {
      "cell_type": "markdown",
      "metadata": {
        "id": "view-in-github",
        "colab_type": "text"
      },
      "source": [
        "<a href=\"https://colab.research.google.com/github/Yosingh1/ypstech/blob/main/Variables_Datatypes.ipynb\" target=\"_parent\"><img src=\"https://colab.research.google.com/assets/colab-badge.svg\" alt=\"Open In Colab\"/></a>"
      ]
    },
    {
      "cell_type": "markdown",
      "source": [
        "![2.png](data:image/png;base64,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)"
      ],
      "metadata": {
        "id": "tAS_7xj9pM_5"
      }
    },
    {
      "cell_type": "markdown",
      "source": [
        "#Variables:\n",
        "  Variables are used to store data values.They are like containers that\n",
        "  hold information, and they allow you to reference and manipulate that information throughout your program.\n",
        "###Here are some key points about variables in Python:\n",
        "\n",
        "1. **Variable Naming:**\n",
        "\n",
        "    Variable names can contain letters (a-z, A-Z), digits (0-9), and\n",
        "    underscores (_), but they cannot start with a digit.\n",
        "    Variable names are case-sensitive, so myVar and myvar are different variables.\n",
        "\n",
        "    It's a good practice to use descriptive names for variables to make your code more readable and understandable.\n",
        "\n",
        "2. **Variable Assignment:**\n",
        "\n",
        "    Variables are assigned values using the assignment operator =. For example: x = 10.\n",
        "\n",
        "    Python is dynamically typed, which means you don't need to declare the data type of a variable before assigning a value to it. ex- a=10 , here python already know that 10 is integer.\n",
        "\n",
        "3. **Data Types:**\n",
        "\n",
        "    Variables in Python can hold values of different data types, such as integers, floats, strings, lists, tuples, dictionaries, etc.\n",
        "\n",
        "    You can assign a value of one type to a variable and then later assign a value of a different type to the same variable.\n",
        "\n",
        "4. **Variable Scope:**\n",
        "\n",
        "    The scope of a variable refers to the region of the code where the variable is accessible.\n",
        "\n",
        "    Variables defined inside a function are local to that function and cannot be accessed from outside the function.\n",
        "\n",
        "    Variables defined outside of any function, at the top level of a script or module, are called global variables and can be accessed from anywhere in the code.\n",
        "\n",
        "5. **Variable Reassignment:**\n",
        "\n",
        "    You can change the value of a variable by assigning a new value to it. For example: x = 10 followed by x = 20.\n",
        "\n",
        "    Python allows multiple assignments in a single line, like x = y = z = 0, which assigns the value 0 to all three variables.\n",
        "\n",
        "6. **Memory Management:**\n",
        "\n",
        "    Python handles memory management automatically, including allocating memory for variables and deallocating memory when variables are no longer needed.\n",
        "\n",
        "\n",
        "\n",
        "\n",
        "\n",
        "\n",
        "\n",
        "\n"
      ],
      "metadata": {
        "id": "nGXjHp6egJ_0"
      }
    },
    {
      "cell_type": "code",
      "source": [
        "\n",
        "\n"
      ],
      "metadata": {
        "id": "jzkshWaijfyX"
      },
      "execution_count": null,
      "outputs": []
    },
    {
      "cell_type": "markdown",
      "source": [
        "#Create Variable\n",
        "\n",
        "We can give any name to variable what comes in mind but variable name should not start with digits"
      ],
      "metadata": {
        "id": "nd8DIdA0j4qe"
      }
    },
    {
      "cell_type": "code",
      "source": [
        "a= 10  # here a is my variable and I have assigned int datatype 10"
      ],
      "metadata": {
        "id": "ZP3YW7FpemyO"
      },
      "execution_count": 2,
      "outputs": []
    },
    {
      "cell_type": "code",
      "source": [
        "print(a)"
      ],
      "metadata": {
        "colab": {
          "base_uri": "https://localhost:8080/"
        },
        "id": "bZQSEr2rkSz7",
        "outputId": "b91f24fa-1a20-4fbc-e825-9dd3ffa0cf34"
      },
      "execution_count": 5,
      "outputs": [
        {
          "output_type": "stream",
          "name": "stdout",
          "text": [
            "20\n"
          ]
        }
      ]
    },
    {
      "cell_type": "code",
      "source": [
        "#Now can manuplate the value of my variable as well\n",
        "\n",
        "a= 20"
      ],
      "metadata": {
        "id": "njsfmwivkHvr"
      },
      "execution_count": 3,
      "outputs": []
    },
    {
      "cell_type": "code",
      "source": [
        "print(a) # hence I can change the value at any point of time"
      ],
      "metadata": {
        "colab": {
          "base_uri": "https://localhost:8080/"
        },
        "id": "AllbqizZkPq7",
        "outputId": "605d65c3-7651-4a62-bda5-07e8fabcce90"
      },
      "execution_count": 4,
      "outputs": [
        {
          "output_type": "stream",
          "name": "stdout",
          "text": [
            "20\n"
          ]
        }
      ]
    },
    {
      "cell_type": "code",
      "source": [
        "#python is case senstive hence a and A is a different variable\n",
        "\n",
        "a= 20\n",
        "print(A)"
      ],
      "metadata": {
        "colab": {
          "base_uri": "https://localhost:8080/",
          "height": 180
        },
        "id": "HEaZGYm7kR2m",
        "outputId": "29d940ac-4dff-4ebe-fff0-adfe8c662a7f"
      },
      "execution_count": 6,
      "outputs": [
        {
          "output_type": "error",
          "ename": "NameError",
          "evalue": "name 'A' is not defined",
          "traceback": [
            "\u001b[0;31m---------------------------------------------------------------------------\u001b[0m",
            "\u001b[0;31mNameError\u001b[0m                                 Traceback (most recent call last)",
            "\u001b[0;32m<ipython-input-6-236b360a367d>\u001b[0m in \u001b[0;36m<cell line: 4>\u001b[0;34m()\u001b[0m\n\u001b[1;32m      2\u001b[0m \u001b[0;34m\u001b[0m\u001b[0m\n\u001b[1;32m      3\u001b[0m \u001b[0ma\u001b[0m\u001b[0;34m=\u001b[0m \u001b[0;36m20\u001b[0m\u001b[0;34m\u001b[0m\u001b[0;34m\u001b[0m\u001b[0m\n\u001b[0;32m----> 4\u001b[0;31m \u001b[0mprint\u001b[0m\u001b[0;34m(\u001b[0m\u001b[0mA\u001b[0m\u001b[0;34m)\u001b[0m\u001b[0;34m\u001b[0m\u001b[0;34m\u001b[0m\u001b[0m\n\u001b[0m",
            "\u001b[0;31mNameError\u001b[0m: name 'A' is not defined"
          ]
        }
      ]
    },
    {
      "cell_type": "code",
      "source": [
        "#Python allows multiple assignments in a single line, like x = y = z = 0\n",
        "\n",
        "a=A=20"
      ],
      "metadata": {
        "id": "6QM_1rVWk-ZJ"
      },
      "execution_count": 10,
      "outputs": []
    },
    {
      "cell_type": "code",
      "source": [
        "print(a,A)"
      ],
      "metadata": {
        "colab": {
          "base_uri": "https://localhost:8080/"
        },
        "id": "tocIQZpblEPe",
        "outputId": "57745728-b265-4524-eba2-7f4061c07429"
      },
      "execution_count": 9,
      "outputs": [
        {
          "output_type": "stream",
          "name": "stdout",
          "text": [
            "20 20\n"
          ]
        }
      ]
    },
    {
      "cell_type": "code",
      "source": [
        "##we can assign any data type to variable\n",
        "\n",
        "a= 10 #int"
      ],
      "metadata": {
        "id": "iFISIuDalF4J"
      },
      "execution_count": 11,
      "outputs": []
    },
    {
      "cell_type": "code",
      "source": [
        "#String datatype\n",
        "s=\"string\" #with double qoutes"
      ],
      "metadata": {
        "id": "2xRq3kqulwbp"
      },
      "execution_count": 20,
      "outputs": []
    },
    {
      "cell_type": "code",
      "source": [
        "type(s)"
      ],
      "metadata": {
        "colab": {
          "base_uri": "https://localhost:8080/"
        },
        "id": "tfsdXvhjmdgO",
        "outputId": "d005a8ac-9d53-4d82-ce2e-533c98e6199a"
      },
      "execution_count": 28,
      "outputs": [
        {
          "output_type": "execute_result",
          "data": {
            "text/plain": [
              "str"
            ]
          },
          "metadata": {},
          "execution_count": 28
        }
      ]
    },
    {
      "cell_type": "code",
      "source": [
        "print(s)"
      ],
      "metadata": {
        "colab": {
          "base_uri": "https://localhost:8080/"
        },
        "id": "3bhYU-iIl8ed",
        "outputId": "74bb6c76-b09a-406a-bbb7-58d0fe40a011"
      },
      "execution_count": 21,
      "outputs": [
        {
          "output_type": "stream",
          "name": "stdout",
          "text": [
            "string\n"
          ]
        }
      ]
    },
    {
      "cell_type": "code",
      "source": [
        "s1= 'python' #with signle quotes"
      ],
      "metadata": {
        "id": "zVcnyrsclzEM"
      },
      "execution_count": 22,
      "outputs": []
    },
    {
      "cell_type": "code",
      "source": [
        "print(s1)"
      ],
      "metadata": {
        "colab": {
          "base_uri": "https://localhost:8080/"
        },
        "id": "ovOg4KGXl6zJ",
        "outputId": "30f453d1-1b48-4c0a-9d4a-4bda825342d4"
      },
      "execution_count": 23,
      "outputs": [
        {
          "output_type": "stream",
          "name": "stdout",
          "text": [
            "python\n"
          ]
        }
      ]
    },
    {
      "cell_type": "code",
      "source": [
        "type(s1)"
      ],
      "metadata": {
        "colab": {
          "base_uri": "https://localhost:8080/"
        },
        "id": "0yvoeC2rmi-Q",
        "outputId": "0b10017e-2ce6-4878-b974-b9823aa21410"
      },
      "execution_count": 30,
      "outputs": [
        {
          "output_type": "execute_result",
          "data": {
            "text/plain": [
              "str"
            ]
          },
          "metadata": {},
          "execution_count": 30
        }
      ]
    },
    {
      "cell_type": "code",
      "source": [
        "s1 = python # we can not assign string datatype with quotes, it will through error"
      ],
      "metadata": {
        "colab": {
          "base_uri": "https://localhost:8080/",
          "height": 144
        },
        "id": "dPQgR1pYl-ny",
        "outputId": "ec1bfe0c-2e8a-42b2-fb7d-c91571aa8e59"
      },
      "execution_count": 24,
      "outputs": [
        {
          "output_type": "error",
          "ename": "NameError",
          "evalue": "name 'python' is not defined",
          "traceback": [
            "\u001b[0;31m---------------------------------------------------------------------------\u001b[0m",
            "\u001b[0;31mNameError\u001b[0m                                 Traceback (most recent call last)",
            "\u001b[0;32m<ipython-input-24-53266aeb62fd>\u001b[0m in \u001b[0;36m<cell line: 1>\u001b[0;34m()\u001b[0m\n\u001b[0;32m----> 1\u001b[0;31m \u001b[0ms1\u001b[0m \u001b[0;34m=\u001b[0m \u001b[0mpython\u001b[0m\u001b[0;34m\u001b[0m\u001b[0;34m\u001b[0m\u001b[0m\n\u001b[0m",
            "\u001b[0;31mNameError\u001b[0m: name 'python' is not defined"
          ]
        }
      ]
    },
    {
      "cell_type": "code",
      "source": [
        "c= True"
      ],
      "metadata": {
        "id": "MznEQP6AmFVq"
      },
      "execution_count": 25,
      "outputs": []
    },
    {
      "cell_type": "code",
      "source": [
        "type(c) # hence we can assign boolean data type to our variable"
      ],
      "metadata": {
        "colab": {
          "base_uri": "https://localhost:8080/"
        },
        "id": "QCvNDaZJmYex",
        "outputId": "9080c17d-fbe3-4265-b7fc-7cf3ab806e0f"
      },
      "execution_count": 26,
      "outputs": [
        {
          "output_type": "execute_result",
          "data": {
            "text/plain": [
              "bool"
            ]
          },
          "metadata": {},
          "execution_count": 26
        }
      ]
    },
    {
      "cell_type": "code",
      "source": [
        "d= False #We can assign boolean data type to our variable\n",
        "\n",
        "#Note- F should be caps else it will not reconige as boolean"
      ],
      "metadata": {
        "id": "hiFiiP7smaKX"
      },
      "execution_count": 31,
      "outputs": []
    },
    {
      "cell_type": "code",
      "source": [
        "type(d)"
      ],
      "metadata": {
        "colab": {
          "base_uri": "https://localhost:8080/"
        },
        "id": "7trrQ0kNmw2B",
        "outputId": "8dcc1a78-c398-4729-d9c5-df953ff21985"
      },
      "execution_count": 32,
      "outputs": [
        {
          "output_type": "execute_result",
          "data": {
            "text/plain": [
              "bool"
            ]
          },
          "metadata": {},
          "execution_count": 32
        }
      ]
    },
    {
      "cell_type": "code",
      "source": [
        "f= false # we can see it through the error as \"F\" is not caps"
      ],
      "metadata": {
        "colab": {
          "base_uri": "https://localhost:8080/",
          "height": 144
        },
        "id": "lrjBdPhtmyAx",
        "outputId": "45548bf9-8906-4df8-8bc7-81b5b6d9aba1"
      },
      "execution_count": 33,
      "outputs": [
        {
          "output_type": "error",
          "ename": "NameError",
          "evalue": "name 'false' is not defined",
          "traceback": [
            "\u001b[0;31m---------------------------------------------------------------------------\u001b[0m",
            "\u001b[0;31mNameError\u001b[0m                                 Traceback (most recent call last)",
            "\u001b[0;32m<ipython-input-33-f67059a9bf56>\u001b[0m in \u001b[0;36m<cell line: 1>\u001b[0;34m()\u001b[0m\n\u001b[0;32m----> 1\u001b[0;31m \u001b[0mf\u001b[0m\u001b[0;34m=\u001b[0m \u001b[0mfalse\u001b[0m\u001b[0;34m\u001b[0m\u001b[0;34m\u001b[0m\u001b[0m\n\u001b[0m",
            "\u001b[0;31mNameError\u001b[0m: name 'false' is not defined"
          ]
        }
      ]
    },
    {
      "cell_type": "code",
      "source": [
        "#complex data type - complex data type is combination of real number and imagnary number,\n",
        "#here 1 is real and 2 is imagnary as it is associated with j.\n",
        "\n",
        "com= 1+2j\n",
        "\n",
        "type(com)"
      ],
      "metadata": {
        "colab": {
          "base_uri": "https://localhost:8080/"
        },
        "id": "a2p2BC-lnOVg",
        "outputId": "2a21cfaa-0151-49ce-a7a1-6f7ee0a7df6c"
      },
      "execution_count": 34,
      "outputs": [
        {
          "output_type": "execute_result",
          "data": {
            "text/plain": [
              "complex"
            ]
          },
          "metadata": {},
          "execution_count": 34
        }
      ]
    },
    {
      "cell_type": "code",
      "source": [
        "#List data type\n",
        "\n",
        "lst = [1,2,3,4]"
      ],
      "metadata": {
        "id": "_8jgcjdanhG4"
      },
      "execution_count": 35,
      "outputs": []
    },
    {
      "cell_type": "code",
      "source": [
        "type(lst)"
      ],
      "metadata": {
        "colab": {
          "base_uri": "https://localhost:8080/"
        },
        "id": "7NAKlwCen5zs",
        "outputId": "f0db5c62-00f0-4488-ca8e-543322fa88ec"
      },
      "execution_count": 36,
      "outputs": [
        {
          "output_type": "execute_result",
          "data": {
            "text/plain": [
              "list"
            ]
          },
          "metadata": {},
          "execution_count": 36
        }
      ]
    },
    {
      "cell_type": "code",
      "source": [
        "#tuple data type\n",
        "\n",
        "tup= (1,2,3,4)"
      ],
      "metadata": {
        "id": "TwSBRHeUn7ah"
      },
      "execution_count": 37,
      "outputs": []
    },
    {
      "cell_type": "code",
      "source": [
        "type(tup)"
      ],
      "metadata": {
        "colab": {
          "base_uri": "https://localhost:8080/"
        },
        "id": "_lJIuBXooBD2",
        "outputId": "d1422edd-c72f-47e7-bea1-ec73d839faa5"
      },
      "execution_count": 38,
      "outputs": [
        {
          "output_type": "execute_result",
          "data": {
            "text/plain": [
              "tuple"
            ]
          },
          "metadata": {},
          "execution_count": 38
        }
      ]
    },
    {
      "cell_type": "code",
      "source": [
        "#dict data type\n",
        "\n",
        "dic= {\"key\":1,\"value\":2}\n",
        "type(dic)"
      ],
      "metadata": {
        "colab": {
          "base_uri": "https://localhost:8080/"
        },
        "id": "2tA-cOL2oCVO",
        "outputId": "7d1242aa-cd44-4429-a63e-ee349aac4d32"
      },
      "execution_count": 40,
      "outputs": [
        {
          "output_type": "execute_result",
          "data": {
            "text/plain": [
              "dict"
            ]
          },
          "metadata": {},
          "execution_count": 40
        }
      ]
    },
    {
      "cell_type": "code",
      "source": [
        "12data= [1,2,3,4] # hence variable can not start with digit"
      ],
      "metadata": {
        "colab": {
          "base_uri": "https://localhost:8080/",
          "height": 108
        },
        "id": "TH0utBOroLMK",
        "outputId": "a8d1e7a8-6c7d-41d7-f0aa-90c4cea88493"
      },
      "execution_count": 41,
      "outputs": [
        {
          "output_type": "error",
          "ename": "SyntaxError",
          "evalue": "invalid decimal literal (<ipython-input-41-9d1efc8c342c>, line 1)",
          "traceback": [
            "\u001b[0;36m  File \u001b[0;32m\"<ipython-input-41-9d1efc8c342c>\"\u001b[0;36m, line \u001b[0;32m1\u001b[0m\n\u001b[0;31m    12data= [1,2,3,4]\u001b[0m\n\u001b[0m     ^\u001b[0m\n\u001b[0;31mSyntaxError\u001b[0m\u001b[0;31m:\u001b[0m invalid decimal literal\n"
          ]
        }
      ]
    },
    {
      "cell_type": "code",
      "source": [
        "data_str= \"my name is YPS\" # (_) can be used"
      ],
      "metadata": {
        "id": "To6YFssWoSxY"
      },
      "execution_count": 42,
      "outputs": []
    },
    {
      "cell_type": "code",
      "source": [
        "data-str= \"my name is YPS\" #(-) can not be used"
      ],
      "metadata": {
        "colab": {
          "base_uri": "https://localhost:8080/",
          "height": 108
        },
        "id": "cPrvezvToeeR",
        "outputId": "267b2553-3a1e-459e-8976-f98b41d68017"
      },
      "execution_count": 43,
      "outputs": [
        {
          "output_type": "error",
          "ename": "SyntaxError",
          "evalue": "cannot assign to expression here. Maybe you meant '==' instead of '='? (<ipython-input-43-b323f3e08d1f>, line 1)",
          "traceback": [
            "\u001b[0;36m  File \u001b[0;32m\"<ipython-input-43-b323f3e08d1f>\"\u001b[0;36m, line \u001b[0;32m1\u001b[0m\n\u001b[0;31m    data-str= \"my name is YPS\"\u001b[0m\n\u001b[0m    ^\u001b[0m\n\u001b[0;31mSyntaxError\u001b[0m\u001b[0;31m:\u001b[0m cannot assign to expression here. Maybe you meant '==' instead of '='?\n"
          ]
        }
      ]
    },
    {
      "cell_type": "code",
      "source": [
        "data&str=\"my name is YPS\" # accept (_) no other special char can be used."
      ],
      "metadata": {
        "colab": {
          "base_uri": "https://localhost:8080/",
          "height": 108
        },
        "id": "pSZ5tnDsonei",
        "outputId": "9e898ae0-f1ab-48f1-8ef2-508423b00f2d"
      },
      "execution_count": 44,
      "outputs": [
        {
          "output_type": "error",
          "ename": "SyntaxError",
          "evalue": "cannot assign to expression here. Maybe you meant '==' instead of '='? (<ipython-input-44-900cf6890d62>, line 1)",
          "traceback": [
            "\u001b[0;36m  File \u001b[0;32m\"<ipython-input-44-900cf6890d62>\"\u001b[0;36m, line \u001b[0;32m1\u001b[0m\n\u001b[0;31m    data&str=\"my name is YPS\"\u001b[0m\n\u001b[0m    ^\u001b[0m\n\u001b[0;31mSyntaxError\u001b[0m\u001b[0;31m:\u001b[0m cannot assign to expression here. Maybe you meant '==' instead of '='?\n"
          ]
        }
      ]
    },
    {
      "cell_type": "code",
      "source": [],
      "metadata": {
        "id": "WdznhWzSoyOg"
      },
      "execution_count": null,
      "outputs": []
    }
  ]
}